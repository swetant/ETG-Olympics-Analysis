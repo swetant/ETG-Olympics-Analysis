{
  "nbformat": 4,
  "nbformat_minor": 0,
  "metadata": {
    "colab": {
      "name": "olympic.ipynb",
      "provenance": []
    },
    "kernelspec": {
      "name": "python3",
      "display_name": "Python 3"
    },
    "language_info": {
      "name": "python"
    }
  },
  "cells": [
    {
      "cell_type": "markdown",
      "metadata": {
        "id": "0S-s9j-lkuM8"
      },
      "source": [
        "## Olympics Assignment\n"
      ]
    },
    {
      "cell_type": "code",
      "metadata": {
        "colab": {
          "base_uri": "https://localhost:8080/",
          "height": 203
        },
        "id": "xw1D68j9j2r5",
        "outputId": "8bdc6a9f-3891-4d85-9109-4b2191f96dfe"
      },
      "source": [
        "import pandas as pd\n",
        "from collections import defaultdict\n",
        "df=pd.read_csv(\"summer.csv\")\n",
        "df.head()"
      ],
      "execution_count": 72,
      "outputs": [
        {
          "output_type": "execute_result",
          "data": {
            "text/html": [
              "<div>\n",
              "<style scoped>\n",
              "    .dataframe tbody tr th:only-of-type {\n",
              "        vertical-align: middle;\n",
              "    }\n",
              "\n",
              "    .dataframe tbody tr th {\n",
              "        vertical-align: top;\n",
              "    }\n",
              "\n",
              "    .dataframe thead th {\n",
              "        text-align: right;\n",
              "    }\n",
              "</style>\n",
              "<table border=\"1\" class=\"dataframe\">\n",
              "  <thead>\n",
              "    <tr style=\"text-align: right;\">\n",
              "      <th></th>\n",
              "      <th>Year</th>\n",
              "      <th>City</th>\n",
              "      <th>Sport</th>\n",
              "      <th>Discipline</th>\n",
              "      <th>Athlete</th>\n",
              "      <th>Country</th>\n",
              "      <th>Gender</th>\n",
              "      <th>Event</th>\n",
              "      <th>Medal</th>\n",
              "    </tr>\n",
              "  </thead>\n",
              "  <tbody>\n",
              "    <tr>\n",
              "      <th>0</th>\n",
              "      <td>1896</td>\n",
              "      <td>Athens</td>\n",
              "      <td>Aquatics</td>\n",
              "      <td>Swimming</td>\n",
              "      <td>HAJOS, Alfred</td>\n",
              "      <td>HUN</td>\n",
              "      <td>Men</td>\n",
              "      <td>100M Freestyle</td>\n",
              "      <td>Gold</td>\n",
              "    </tr>\n",
              "    <tr>\n",
              "      <th>1</th>\n",
              "      <td>1896</td>\n",
              "      <td>Athens</td>\n",
              "      <td>Aquatics</td>\n",
              "      <td>Swimming</td>\n",
              "      <td>HERSCHMANN, Otto</td>\n",
              "      <td>AUT</td>\n",
              "      <td>Men</td>\n",
              "      <td>100M Freestyle</td>\n",
              "      <td>Silver</td>\n",
              "    </tr>\n",
              "    <tr>\n",
              "      <th>2</th>\n",
              "      <td>1896</td>\n",
              "      <td>Athens</td>\n",
              "      <td>Aquatics</td>\n",
              "      <td>Swimming</td>\n",
              "      <td>DRIVAS, Dimitrios</td>\n",
              "      <td>GRE</td>\n",
              "      <td>Men</td>\n",
              "      <td>100M Freestyle For Sailors</td>\n",
              "      <td>Bronze</td>\n",
              "    </tr>\n",
              "    <tr>\n",
              "      <th>3</th>\n",
              "      <td>1896</td>\n",
              "      <td>Athens</td>\n",
              "      <td>Aquatics</td>\n",
              "      <td>Swimming</td>\n",
              "      <td>MALOKINIS, Ioannis</td>\n",
              "      <td>GRE</td>\n",
              "      <td>Men</td>\n",
              "      <td>100M Freestyle For Sailors</td>\n",
              "      <td>Gold</td>\n",
              "    </tr>\n",
              "    <tr>\n",
              "      <th>4</th>\n",
              "      <td>1896</td>\n",
              "      <td>Athens</td>\n",
              "      <td>Aquatics</td>\n",
              "      <td>Swimming</td>\n",
              "      <td>CHASAPIS, Spiridon</td>\n",
              "      <td>GRE</td>\n",
              "      <td>Men</td>\n",
              "      <td>100M Freestyle For Sailors</td>\n",
              "      <td>Silver</td>\n",
              "    </tr>\n",
              "  </tbody>\n",
              "</table>\n",
              "</div>"
            ],
            "text/plain": [
              "   Year    City     Sport  ... Gender                       Event   Medal\n",
              "0  1896  Athens  Aquatics  ...    Men              100M Freestyle    Gold\n",
              "1  1896  Athens  Aquatics  ...    Men              100M Freestyle  Silver\n",
              "2  1896  Athens  Aquatics  ...    Men  100M Freestyle For Sailors  Bronze\n",
              "3  1896  Athens  Aquatics  ...    Men  100M Freestyle For Sailors    Gold\n",
              "4  1896  Athens  Aquatics  ...    Men  100M Freestyle For Sailors  Silver\n",
              "\n",
              "[5 rows x 9 columns]"
            ]
          },
          "metadata": {},
          "execution_count": 72
        }
      ]
    },
    {
      "cell_type": "markdown",
      "metadata": {
        "id": "8GEDVnrik_CQ"
      },
      "source": [
        "##1. In how many cities Summer Olympics is held so far?"
      ]
    },
    {
      "cell_type": "code",
      "metadata": {
        "colab": {
          "base_uri": "https://localhost:8080/"
        },
        "id": "C6U5uVVYk9w0",
        "outputId": "ffae12cd-93aa-4689-f7ff-531d2f6171af"
      },
      "source": [
        "l=len(df[\"City\"].unique())\n",
        "print(f\"There are total {l} cities where Olympics is held so far.\")"
      ],
      "execution_count": 64,
      "outputs": [
        {
          "output_type": "stream",
          "name": "stdout",
          "text": [
            "There are total 22 cities where Olympics is held so far.\n"
          ]
        }
      ]
    },
    {
      "cell_type": "markdown",
      "metadata": {
        "id": "odCguIwdlTKF"
      },
      "source": [
        ""
      ]
    },
    {
      "cell_type": "markdown",
      "metadata": {
        "id": "3pCd1Hjgma5c"
      },
      "source": [
        "## 2. Which sport is having most number of Gold Medals so far? (Top 5)\n"
      ]
    },
    {
      "cell_type": "code",
      "metadata": {
        "colab": {
          "base_uri": "https://localhost:8080/",
          "height": 454
        },
        "id": "u-KQJPXFmptP",
        "outputId": "b9a740a1-8200-4c85-e8cc-26eacb249a0e"
      },
      "source": [
        "d=defaultdict(int)\n",
        "sport=df['Sport']\n",
        "medal=df['Medal']\n",
        "for i in range(len(sport)):\n",
        "  if medal[i]==\"Gold\":\n",
        "    d[sport[i]]+=1\n",
        "data=[]\n",
        "sport=list(set(sport))\n",
        "for i in range(len(sport)):\n",
        "  data.append((sport[i],d[sport[i]]))\n",
        "pd.DataFrame(data,columns = ['Sport','Gold Medals']).sort_values(by='Gold Medals', ascending=False).head().plot(x = 'Sport', y = 'Gold Medals', kind = 'bar', figsize = (10,6))"
      ],
      "execution_count": 39,
      "outputs": [
        {
          "output_type": "execute_result",
          "data": {
            "text/plain": [
              "<matplotlib.axes._subplots.AxesSubplot at 0x7f567a577810>"
            ]
          },
          "metadata": {},
          "execution_count": 39
        },
        {
          "output_type": "display_data",
          "data": {
            "image/png": "[encoded data removed]",
            "text/plain": [
              "<Figure size 720x432 with 1 Axes>"
            ]
          },
          "metadata": {
            "needs_background": "light"
          }
        }
      ]
    },
    {
      "cell_type": "markdown",
      "metadata": {
        "id": "AdQD78zhtxGh"
      },
      "source": [
        "## 3. Which sport is having most number of medals so far? (Top 5)"
      ]
    },
    {
      "cell_type": "code",
      "metadata": {
        "colab": {
          "base_uri": "https://localhost:8080/",
          "height": 454
        },
        "id": "YjHQfEf1t8Ny",
        "outputId": "187ee893-36b6-4d2f-cc4d-12ee228dafd5"
      },
      "source": [
        "d1=defaultdict(int)\n",
        "sport=df['Sport']\n",
        "medal=df['Medal']\n",
        "for i in range(len(sport)):\n",
        "    d1[sport[i]]+=1\n",
        "data=[]\n",
        "sport=list(set(sport))\n",
        "for i in range(len(sport)):\n",
        "  data.append((sport[i],d1[sport[i]]))\n",
        "pd.DataFrame(data,columns = ['Sport','Medals']).sort_values(by='Medals', ascending=False).head().plot(x = 'Sport', y = 'Medals', kind = 'bar', figsize = (10,6))"
      ],
      "execution_count": 43,
      "outputs": [
        {
          "output_type": "execute_result",
          "data": {
            "text/plain": [
              "<matplotlib.axes._subplots.AxesSubplot at 0x7f5679e7b190>"
            ]
          },
          "metadata": {},
          "execution_count": 43
        },
        {
          "output_type": "display_data",
          "data": {
            "image/png": "[encoded data removed]",
            "text/plain": [
              "<Figure size 720x432 with 1 Axes>"
            ]
          },
          "metadata": {
            "needs_background": "light"
          }
        }
      ]
    },
    {
      "cell_type": "markdown",
      "metadata": {
        "id": "0eQCxqFIvBqS"
      },
      "source": [
        "## 4. Which player has won most number of medals? (Top 5)"
      ]
    },
    {
      "cell_type": "code",
      "metadata": {
        "colab": {
          "base_uri": "https://localhost:8080/",
          "height": 512
        },
        "id": "EAoUqWXOvF_c",
        "outputId": "556a45e3-4b34-4536-bfc3-e337978c8d52"
      },
      "source": [
        "d2=defaultdict(int)\n",
        "player=df['Athlete']\n",
        "medal=df['Medal']\n",
        "for i in range(len(player)):\n",
        "    d2[player[i]]+=1\n",
        "data=[]\n",
        "player=list(set(player))\n",
        "for i in range(len(player)):\n",
        "  data.append((player[i],d2[player[i]]))\n",
        "pd.DataFrame(data,columns = ['Player','Medals']).sort_values(by='Medals', ascending=False).head().plot(x = 'Player', y = 'Medals', kind = 'bar', figsize = (10,6))"
      ],
      "execution_count": 47,
      "outputs": [
        {
          "output_type": "execute_result",
          "data": {
            "text/plain": [
              "<matplotlib.axes._subplots.AxesSubplot at 0x7f567a4399d0>"
            ]
          },
          "metadata": {},
          "execution_count": 47
        },
        {
          "output_type": "display_data",
          "data": {
            "image/png": "[encoded data removed]",
            "text/plain": [
              "<Figure size 720x432 with 1 Axes>"
            ]
          },
          "metadata": {
            "needs_background": "light"
          }
        }
      ]
    },
    {
      "cell_type": "markdown",
      "metadata": {
        "id": "aoVcrYDbwKxa"
      },
      "source": [
        "## 5. Which player has won most number Gold Medals of medals? (Top 5)"
      ]
    },
    {
      "cell_type": "code",
      "metadata": {
        "colab": {
          "base_uri": "https://localhost:8080/",
          "height": 480
        },
        "id": "oHuNzPSRwNEg",
        "outputId": "d7920434-efe1-4f45-b626-f9dd05f1e026"
      },
      "source": [
        "d3=defaultdict(int)\n",
        "player=df['Athlete']\n",
        "medal=df['Medal']\n",
        "for i in range(len(player)):\n",
        "  if medal[i]==\"Gold\":\n",
        "    d3[player[i]]+=1\n",
        "data=[]\n",
        "player=list(set(player))\n",
        "for i in range(len(player)):\n",
        "  data.append((player[i],d3[player[i]]))\n",
        "pd.DataFrame(data,columns = ['Player','Gold Medals']).sort_values(by='Gold Medals', ascending=False).head().plot(x = 'Player', y = 'Gold Medals', kind = 'bar', figsize = (10,6))"
      ],
      "execution_count": 52,
      "outputs": [
        {
          "output_type": "execute_result",
          "data": {
            "text/plain": [
              "<matplotlib.axes._subplots.AxesSubplot at 0x7f5679b2e650>"
            ]
          },
          "metadata": {},
          "execution_count": 52
        },
        {
          "output_type": "display_data",
          "data": {
            "image/png": "[encoded data removed]",
            "text/plain": [
              "<Figure size 720x432 with 1 Axes>"
            ]
          },
          "metadata": {
            "needs_background": "light"
          }
        }
      ]
    },
    {
      "cell_type": "markdown",
      "metadata": {
        "id": "9FSYSRYFxNcb"
      },
      "source": [
        "## 6. In which year India won first Gold Medal in Summer Olympics?"
      ]
    },
    {
      "cell_type": "code",
      "metadata": {
        "colab": {
          "base_uri": "https://localhost:8080/"
        },
        "id": "BC4zovd1xW8y",
        "outputId": "c3b330f4-feea-46e4-b2a3-bd2701e65c80"
      },
      "source": [
        "c=df['Country']\n",
        "year=df['Year']\n",
        "medal=df['Medal']\n",
        "yans=100000\n",
        "for i in range(len(c)):\n",
        "  if c[i]==\"IND\" and medal[i]==\"Gold\":\n",
        "    yans=min(yans,year[i])\n",
        "print(f\"India won first Gold Medal in Summer Olympics in {yans}.\")\n"
      ],
      "execution_count": 58,
      "outputs": [
        {
          "output_type": "stream",
          "name": "stdout",
          "text": [
            "India won first Gold Medal in Summer Olympics in 1928.\n"
          ]
        }
      ]
    },
    {
      "cell_type": "markdown",
      "metadata": {
        "id": "BeJkAjnu19Nb"
      },
      "source": [
        "## 7. Which event is most popular in terms on number of players? (Top 5)"
      ]
    },
    {
      "cell_type": "code",
      "metadata": {
        "colab": {
          "base_uri": "https://localhost:8080/",
          "height": 485
        },
        "id": "z6jh7wuk1_Xm",
        "outputId": "859e6475-4cda-49c7-b50a-0561a5933f92"
      },
      "source": [
        "d4=defaultdict(int)\n",
        "data=[]\n",
        "for i in df['Event']:\n",
        "  d4[i]+=1\n",
        "for i in df['Event'].unique():\n",
        "  data.append((i,d4[i]))\n",
        "pd.DataFrame(data,columns = ['Event','No of Players']).sort_values(by='No of Players', ascending=False).head().plot(x = 'Event', y = 'No of Players', kind = 'bar', figsize = (10,6))"
      ],
      "execution_count": 66,
      "outputs": [
        {
          "output_type": "execute_result",
          "data": {
            "text/plain": [
              "<matplotlib.axes._subplots.AxesSubplot at 0x7f567988f990>"
            ]
          },
          "metadata": {},
          "execution_count": 66
        },
        {
          "output_type": "display_data",
          "data": {
            "image/png": "[encoded data removed]",
            "text/plain": [
              "<Figure size 720x432 with 1 Axes>"
            ]
          },
          "metadata": {
            "needs_background": "light"
          }
        }
      ]
    },
    {
      "cell_type": "markdown",
      "metadata": {
        "id": "RfxtEhiE5em0"
      },
      "source": [
        "## 8. Which sport is having most female Gold Medalists? (Top 5)"
      ]
    },
    {
      "cell_type": "code",
      "metadata": {
        "colab": {
          "base_uri": "https://localhost:8080/",
          "height": 454
        },
        "id": "h0mbeiDj5iSg",
        "outputId": "bce80e34-afa7-439d-a924-57a5918714cb"
      },
      "source": [
        "d5=defaultdict(int)\n",
        "sport=df['Sport']\n",
        "medal=df['Medal']\n",
        "gender=df['Gender']\n",
        "for i in range(len(sport)):\n",
        "  if medal[i]==\"Gold\" and gender[i]==\"Women\":\n",
        "    d5[sport[i]]+=1\n",
        "data=[]\n",
        "sport=list(set(sport))\n",
        "for i in range(len(sport)):\n",
        "  data.append((sport[i],d5[sport[i]]))\n",
        "pd.DataFrame(data,columns = ['Sport','Female Gold Medals']).sort_values(by='Female Gold Medals', ascending=False).head().plot(x = 'Sport', y = 'Female Gold Medals', kind = 'bar', figsize = (10,6))"
      ],
      "execution_count": 75,
      "outputs": [
        {
          "output_type": "execute_result",
          "data": {
            "text/plain": [
              "<matplotlib.axes._subplots.AxesSubplot at 0x7f56792babd0>"
            ]
          },
          "metadata": {},
          "execution_count": 75
        },
        {
          "output_type": "display_data",
          "data": {
            "image/png": "[encoded data removed]",
            "text/plain": [
              "<Figure size 720x432 with 1 Axes>"
            ]
          },
          "metadata": {
            "needs_background": "light"
          }
        }
      ]
    }
  ]
}